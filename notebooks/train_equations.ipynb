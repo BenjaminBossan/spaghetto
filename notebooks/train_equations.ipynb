{
 "cells": [
  {
   "cell_type": "markdown",
   "metadata": {},
   "source": [
    "## Imports"
   ]
  },
  {
   "cell_type": "code",
   "execution_count": 1,
   "metadata": {
    "collapsed": true
   },
   "outputs": [],
   "source": [
    "import random\n",
    "import re\n",
    "from functools import partial"
   ]
  },
  {
   "cell_type": "code",
   "execution_count": 2,
   "metadata": {
    "collapsed": true
   },
   "outputs": [],
   "source": [
    "from lasagne.layers import Layer, InputLayer, EmbeddingLayer\n",
    "from lasagne import nonlinearities\n",
    "from lasagne.updates import rmsprop"
   ]
  },
  {
   "cell_type": "code",
   "execution_count": 3,
   "metadata": {
    "collapsed": false
   },
   "outputs": [
    {
     "name": "stderr",
     "output_type": "stream",
     "text": [
      "/home/bbossan_dev/anaconda/envs/spaghetto/lib/python2.7/site-packages/Lasagne-0.1.dev0-py2.7.egg/lasagne/init.py:86: UserWarning: The uniform initializer no longer uses Glorot et al.'s approach to determine the bounds, but defaults to the range (-0.01, 0.01) instead. Please use the new GlorotUniform initializer to get the old behavior. GlorotUniform is now the default for all layers.\n",
      "  warnings.warn(\"The uniform initializer no longer uses Glorot et al.'s \"\n"
     ]
    }
   ],
   "source": [
    "from spaghetto.model import RNN\n",
    "from spaghetto.utils import TokenEncoder\n",
    "from spaghetto.recurrent import GRULayer\n",
    "from spaghetto.recurrent import RNNDenseLayer"
   ]
  },
  {
   "cell_type": "markdown",
   "metadata": {},
   "source": [
    "## Create artificial data"
   ]
  },
  {
   "cell_type": "markdown",
   "metadata": {},
   "source": [
    "Data is of the type _13+45=58_"
   ]
  },
  {
   "cell_type": "code",
   "execution_count": 4,
   "metadata": {
    "collapsed": true
   },
   "outputs": [],
   "source": [
    "X = [\"{}+{}={}\".format(a, b, a + b) for a in range(100) for b in range(100)]"
   ]
  },
  {
   "cell_type": "code",
   "execution_count": 5,
   "metadata": {
    "collapsed": false,
    "scrolled": true
   },
   "outputs": [],
   "source": [
    "encoder = TokenEncoder().fit(X)"
   ]
  },
  {
   "cell_type": "code",
   "execution_count": 6,
   "metadata": {
    "collapsed": true
   },
   "outputs": [],
   "source": [
    "random.shuffle(X)"
   ]
  },
  {
   "cell_type": "code",
   "execution_count": 7,
   "metadata": {
    "collapsed": true
   },
   "outputs": [],
   "source": [
    "Xtrain, Xtest = X[:8000], X[8000:]"
   ]
  },
  {
   "cell_type": "markdown",
   "metadata": {},
   "source": [
    "## Initialize net"
   ]
  },
  {
   "cell_type": "code",
   "execution_count": 8,
   "metadata": {
    "collapsed": true
   },
   "outputs": [],
   "source": [
    "embedding_size = 16\n",
    "num_units = 32\n",
    "learning_rate = 1e-2"
   ]
  },
  {
   "cell_type": "code",
   "execution_count": 9,
   "metadata": {
    "collapsed": true
   },
   "outputs": [],
   "source": [
    "layers = [\n",
    "    (InputLayer, {}),\n",
    "    (EmbeddingLayer, {'output_size': embedding_size}),\n",
    "    (GRULayer, {'grad_clipping': 5., 'num_units': num_units}),\n",
    "    (RNNDenseLayer, {'nonlinearity': nonlinearities.identity}),\n",
    "]"
   ]
  },
  {
   "cell_type": "code",
   "execution_count": 12,
   "metadata": {
    "collapsed": true
   },
   "outputs": [],
   "source": [
    "rnn = RNN(\n",
    "    layers,\n",
    "    encoder=encoder,\n",
    "    verbose=1,\n",
    "    updater=partial(rmsprop, learning_rate=learning_rate),\n",
    "    max_epochs=50,\n",
    "    batch_size=128,\n",
    "    max_len_line=12,\n",
    ")"
   ]
  },
  {
   "cell_type": "markdown",
   "metadata": {},
   "source": [
    "## Train"
   ]
  },
  {
   "cell_type": "code",
   "execution_count": 13,
   "metadata": {
    "collapsed": false,
    "scrolled": false
   },
   "outputs": [
    {
     "name": "stderr",
     "output_type": "stream",
     "text": [
      "/home/bbossan_dev/anaconda/envs/spaghetto/lib/python2.7/site-packages/Lasagne-0.1.dev0-py2.7.egg/lasagne/layers/helper.py:69: UserWarning: get_all_layers() has been changed to return layers in topological order. The former implementation is still available as get_all_layers_old(), but will be removed before the first release of Lasagne. To ignore this warning, use `warnings.filterwarnings('ignore', '.*topo.*')`.\n",
      "  warnings.warn(\"get_all_layers() has been changed to return layers in \"\n",
      "/home/bbossan_dev/anaconda/envs/spaghetto/lib/python2.7/site-packages/theano/scan_module/scan.py:1017: Warning: In the strict mode, all neccessary shared variables must be passed as a part of non_sequences\n",
      "  'must be passed as a part of non_sequences', Warning)\n"
     ]
    },
    {
     "name": "stdout",
     "output_type": "stream",
     "text": [
      " - Compiling functions ...\n",
      "   ... finished compilation.\n",
      "\n",
      "  epoch    train perpl.    valid perpl.    train/valid  duration    sample\n",
      "-------  --------------  --------------  -------------  ----------  ----------\n",
      "      1         \u001b[36m7.38919\u001b[0m         \u001b[32m7.18130\u001b[0m        1.02894  1.98s       81+41=67\n",
      "      2         \u001b[36m4.29909\u001b[0m         \u001b[32m4.29150\u001b[0m        1.00178  2.13s       57+7=98\n",
      "      3         \u001b[36m4.13031\u001b[0m         \u001b[32m4.12520\u001b[0m        1.00123  2.17s       69+70=124\n",
      "      4         \u001b[36m4.01943\u001b[0m         \u001b[32m4.01490\u001b[0m        1.00113  2.09s       24+72=95\n",
      "      5         \u001b[36m3.93380\u001b[0m         \u001b[32m3.93200\u001b[0m        1.00045  2.14s       82+70=187\n",
      "      6         \u001b[36m3.86750\u001b[0m         \u001b[32m3.86780\u001b[0m        0.99992  2.19s       6+73=89\n",
      "      7         \u001b[36m3.80652\u001b[0m         \u001b[32m3.80830\u001b[0m        0.99954  2.13s       56+29=84\n",
      "      8         \u001b[36m3.75030\u001b[0m         \u001b[32m3.75420\u001b[0m        0.99897  2.06s       28+44=64\n",
      "      9         \u001b[36m3.70113\u001b[0m         \u001b[32m3.70880\u001b[0m        0.99793  2.06s       26+4=48\n",
      "     10         \u001b[36m3.66024\u001b[0m         \u001b[32m3.67130\u001b[0m        0.99698  2.07s       30+51=93\n",
      "     11         \u001b[36m3.62513\u001b[0m         \u001b[32m3.63850\u001b[0m        0.99631  2.07s       62+93=154\n",
      "     12         \u001b[36m3.59483\u001b[0m         \u001b[32m3.60920\u001b[0m        0.99601  2.09s       43+53=93\n",
      "     13         \u001b[36m3.56906\u001b[0m         \u001b[32m3.58490\u001b[0m        0.99559  2.09s       19+90=113\n",
      "     14         \u001b[36m3.54727\u001b[0m         \u001b[32m3.56420\u001b[0m        0.99524  2.05s       63+24=92\n",
      "     15         \u001b[36m3.52764\u001b[0m         \u001b[32m3.54610\u001b[0m        0.99481  2.09s       65+31=106\n",
      "     16         \u001b[36m3.50918\u001b[0m         \u001b[32m3.53010\u001b[0m        0.99407  2.09s       35+21=67\n",
      "     17         \u001b[36m3.49313\u001b[0m         \u001b[32m3.51440\u001b[0m        0.99395  2.12s       29+17=51\n",
      "     18         \u001b[36m3.47715\u001b[0m         \u001b[32m3.50020\u001b[0m        0.99340  2.11s       52+57=112\n",
      "     19         \u001b[36m3.46315\u001b[0m         \u001b[32m3.48770\u001b[0m        0.99297  2.02s       26+37=7\n",
      "     20         \u001b[36m3.45035\u001b[0m         \u001b[32m3.47480\u001b[0m        0.99296  2.04s       35+2=45\n",
      "     21         \u001b[36m3.43683\u001b[0m         \u001b[32m3.46260\u001b[0m        0.99256  2.06s       60+94=173\n",
      "     22         \u001b[36m3.43005\u001b[0m         \u001b[32m3.45540\u001b[0m        0.99267  2.06s       45+5=39\n",
      "     23         \u001b[36m3.41129\u001b[0m         \u001b[32m3.43890\u001b[0m        0.99197  2.04s       52+93=142\n",
      "     24         3.41260         3.44160        0.99156  2.05s       96+40=149\n",
      "     25         \u001b[36m3.39793\u001b[0m         \u001b[32m3.42850\u001b[0m        0.99109  2.04s       35+86=139\n",
      "     26         \u001b[36m3.38658\u001b[0m         \u001b[32m3.42100\u001b[0m        0.98995  2.06s       74+56=142\n",
      "     27         \u001b[36m3.38117\u001b[0m         \u001b[32m3.41660\u001b[0m        0.98964  2.08s       7+70=83\n",
      "     28         \u001b[36m3.37312\u001b[0m         \u001b[32m3.41060\u001b[0m        0.98902  2.10s       19+57=64\n",
      "     29         \u001b[36m3.36726\u001b[0m         \u001b[32m3.40560\u001b[0m        0.98874  2.08s       14+15=39\n",
      "     30         \u001b[36m3.35898\u001b[0m         \u001b[32m3.40000\u001b[0m        0.98794  2.03s       11+51=76\n",
      "     31         3.36470         \u001b[32m3.38770\u001b[0m        0.99322  2.08s       56+32=85\n",
      "     32         \u001b[36m3.35440\u001b[0m         \u001b[32m3.38520\u001b[0m        0.99090  2.03s       92+44=131\n",
      "     33         \u001b[36m3.34669\u001b[0m         \u001b[32m3.37860\u001b[0m        0.99056  2.03s       66+72=137\n",
      "     34         \u001b[36m3.33998\u001b[0m         \u001b[32m3.37550\u001b[0m        0.98948  2.03s       71+98=167\n",
      "     35         \u001b[36m3.32302\u001b[0m         \u001b[32m3.36170\u001b[0m        0.98850  2.02s       3+48=47\n",
      "     36         3.32690         3.36990        0.98723  1.98s       35+9=38\n",
      "     37         3.32420         3.37230        0.98576  2.00s       63+51=120\n",
      "     38         \u001b[36m3.31320\u001b[0m         \u001b[32m3.36120\u001b[0m        0.98572  2.13s       19+4=31\n",
      "     39         \u001b[36m3.31139\u001b[0m         \u001b[32m3.35560\u001b[0m        0.98682  2.15s       89+55=137\n",
      "     40         \u001b[36m3.30336\u001b[0m         3.35580        0.98439  2.06s       64+78=140\n",
      "     41         \u001b[36m3.30254\u001b[0m         \u001b[32m3.34850\u001b[0m        0.98629  2.07s       86+62=149\n",
      "     42         \u001b[36m3.28808\u001b[0m         \u001b[32m3.33960\u001b[0m        0.98458  2.05s       43+20=61\n",
      "     43         3.28890         \u001b[32m3.33930\u001b[0m        0.98489  2.04s       93+10=107\n",
      "     44         3.30450         \u001b[32m3.33190\u001b[0m        0.99176  2.05s       9+80=99\n",
      "     45         3.28840         \u001b[32m3.32210\u001b[0m        0.98985  2.06s       90+43=128\n",
      "     46         \u001b[36m3.28376\u001b[0m         \u001b[32m3.31940\u001b[0m        0.98926  2.03s       23+18=29\n",
      "     47         \u001b[36m3.28166\u001b[0m         3.32360        0.98737  2.07s       10+31=41\n",
      "     48         \u001b[36m3.26969\u001b[0m         \u001b[32m3.31590\u001b[0m        0.98608  2.33s       90+90=181\n",
      "     49         3.27230         3.31690        0.98653  2.08s       33+29=62\n",
      "     50         3.27120         \u001b[32m3.30100\u001b[0m        0.99098  2.07s       39+13=56\n"
     ]
    },
    {
     "name": "stderr",
     "output_type": "stream",
     "text": [
      "/home/bbossan_dev/anaconda/envs/spaghetto/lib/python2.7/site-packages/theano/scan_module/scan_perform_ext.py:133: RuntimeWarning: numpy.ndarray size changed, may indicate binary incompatibility\n",
      "  from scan_perform.scan_perform import *\n"
     ]
    },
    {
     "data": {
      "text/plain": [
       "<spaghetto.model.RNN at 0x7fea4e60cbd0>"
      ]
     },
     "execution_count": 13,
     "metadata": {},
     "output_type": "execute_result"
    }
   ],
   "source": [
    "rnn.fit(Xtrain)"
   ]
  },
  {
   "cell_type": "markdown",
   "metadata": {},
   "source": [
    "## Sample from unseen data"
   ]
  },
  {
   "cell_type": "code",
   "execution_count": 17,
   "metadata": {
    "collapsed": false
   },
   "outputs": [
    {
     "name": "stdout",
     "output_type": "stream",
     "text": [
      "Input | expected | predicted | error\n",
      "--------------------------------------\n",
      "48+38 |       86 |        97 | -11.\n",
      " 6+25 |       31 |        41 | -10.\n",
      "49+45 |       94 |       100 |  -6.\n",
      "33+18 |       51 |        58 |  -7.\n",
      "40+15 |       55 |        60 |  -5.\n",
      "58+38 |       96 |        94 |   2.\n",
      "31+95 |      126 |       137 | -11.\n",
      " 1+72 |       73 |        75 |  -2.\n",
      "90+26 |      116 |       127 | -11.\n",
      " 4+27 |       31 |        30 |   1.\n",
      "19+29 |       48 |        57 |  -9.\n",
      "78+45 |      123 |       125 |  -2.\n",
      "77+31 |      108 |       118 | -10.\n",
      "68+57 |      125 |       128 |  -3.\n",
      "32+21 |       53 |        60 |  -7.\n",
      "84+53 |      137 |       137 |   0.\n",
      "29+76 |      105 |       117 | -12.\n",
      "47+39 |       86 |        90 |  -4.\n",
      "86+16 |      102 |        85 |  17.\n",
      "10+74 |       84 |        88 |  -4.\n"
     ]
    }
   ],
   "source": [
    "print(\"Input | expected | predicted | error\")\n",
    "print(\"-\" * 38)\n",
    "for xi in Xtest[:20]:\n",
    "    x, y = xi.split('=')\n",
    "    pred = rnn.sample(1, primer=x)[0].split('=')[1]\n",
    "    pred = re.sub(\"\\\\\\n\", \"\", pred)\n",
    "\n",
    "    print(\"{:>5} | {:>8} | {:>9} | {:>3}.\"\n",
    "          \"\".format(x, y, pred, int(y) - int(pred)))"
   ]
  },
  {
   "cell_type": "code",
   "execution_count": null,
   "metadata": {
    "collapsed": true
   },
   "outputs": [],
   "source": []
  }
 ],
 "metadata": {
  "kernelspec": {
   "display_name": "Python 2",
   "language": "python",
   "name": "python2"
  },
  "language_info": {
   "codemirror_mode": {
    "name": "ipython",
    "version": 2
   },
   "file_extension": ".py",
   "mimetype": "text/x-python",
   "name": "python",
   "nbconvert_exporter": "python",
   "pygments_lexer": "ipython2",
   "version": "2.7.10"
  }
 },
 "nbformat": 4,
 "nbformat_minor": 0
}
